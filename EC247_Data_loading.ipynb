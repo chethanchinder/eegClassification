{
  "nbformat": 4,
  "nbformat_minor": 0,
  "metadata": {
    "colab": {
      "name": "EC247_Data_loading.ipynb",
      "provenance": []
    },
    "kernelspec": {
      "name": "python3",
      "display_name": "Python 3"
    },
    "language_info": {
      "name": "python"
    }
  },
  "cells": [
    {
      "cell_type": "code",
      "execution_count": null,
      "metadata": {
        "colab": {
          "base_uri": "https://localhost:8080/"
        },
        "id": "W10-NwbXJJFY",
        "outputId": "c16e9a46-bfa8-4f7f-baf4-74a5a7d07d74"
      },
      "outputs": [
        {
          "output_type": "stream",
          "name": "stdout",
          "text": [
            "Drive already mounted at /content/gdrive; to attempt to forcibly remount, call drive.mount(\"/content/gdrive\", force_remount=True).\n"
          ]
        }
      ],
      "source": [
        "import numpy as np\n",
        "from google.colab import drive \n",
        "drive.mount('/content/gdrive')\n",
        "data_path='/content/gdrive/MyDrive/EC247/'\n",
        "from sklearn.model_selection import train_test_split\n",
        "import torch\n"
      ]
    },
    {
      "cell_type": "code",
      "source": [
        "\n",
        "X_test = np.load(data_path+\"X_test.npy\")\n",
        "y_test = np.load(data_path+\"y_test.npy\")\n",
        "person_train_valid = np.load(data_path+\"person_train_valid.npy\")\n",
        "X_train_valid = np.load(data_path+\"X_train_valid.npy\")\n",
        "y_train_valid = np.load(data_path+\"y_train_valid.npy\")\n",
        "person_test = np.load(data_path+\"person_test.npy\")"
      ],
      "metadata": {
        "id": "lOXv-hU3Km4a"
      },
      "execution_count": null,
      "outputs": []
    },
    {
      "cell_type": "code",
      "source": [
        "print ('Training/Valid data shape: {}'.format(X_train_valid.shape))\n",
        "print ('Test data shape: {}'.format(X_test.shape))\n",
        "print ('Training/Valid target shape: {}'.format(y_train_valid.shape))\n",
        "print ('Test target shape: {}'.format(y_test.shape))\n",
        "print ('Person train/valid shape: {}'.format(person_train_valid.shape))\n",
        "print ('Person test shape: {}'.format(person_test.shape))\n"
      ],
      "metadata": {
        "id": "7If0KzxRLF5p",
        "colab": {
          "base_uri": "https://localhost:8080/"
        },
        "outputId": "1e02274e-785c-4d1d-a986-2f913b5fdc71"
      },
      "execution_count": null,
      "outputs": [
        {
          "output_type": "stream",
          "name": "stdout",
          "text": [
            "Training/Valid data shape: (2115, 22, 1000)\n",
            "Test data shape: (443, 22, 1000)\n",
            "Training/Valid target shape: (2115,)\n",
            "Test target shape: (443,)\n",
            "Person train/valid shape: (2115, 1)\n",
            "Person test shape: (443, 1)\n"
          ]
        }
      ]
    },
    {
      "cell_type": "code",
      "source": [
        "# Exploring some parts of data \n",
        "verbose=True\n",
        "if verbose:\n",
        "  print(np.unique(person_test))\n",
        "  print(np.unique(y_test))\n",
        "\n",
        "#We need to convert y labels into 0-3 from 769-772 \n",
        "y_train_valid=y_train_valid-769\n",
        "y_test=y_test-769\n",
        "\n",
        "if verbose:\n",
        "  print(np.unique(y_test))\n",
        "\n"
      ],
      "metadata": {
        "colab": {
          "base_uri": "https://localhost:8080/"
        },
        "id": "eDOcrKi_MSL-",
        "outputId": "720e01fb-3806-4754-ef41-68d7c12f7676"
      },
      "execution_count": null,
      "outputs": [
        {
          "output_type": "stream",
          "name": "stdout",
          "text": [
            "[0. 1. 2. 3. 4. 5. 6. 7. 8.]\n",
            "[769 770 771 772]\n",
            "[0 1 2 3]\n"
          ]
        }
      ]
    },
    {
      "cell_type": "code",
      "source": [
        "# Function to split the given train_valid combination into training and validation in a 20% 80% split\n",
        "# Input X_train_valid, y_train_valid, person_train_valid\n",
        "# Output X_train, X_valid, y_train, y_valid, person_train, person_valid\n",
        "\n",
        "def train_valid_split(X_train_valid,y_train_valid,person_train_valid):\n",
        "    full_size=X_train_valid.shape[0]\n",
        "    val_idxs=np.random.choice(int(full_size), int(0.2*full_size),replace=False)\n",
        "    tr_idxs = np.array(list(set(range(full_size)).difference(set(val_idxs))))\n",
        "    X_train=X_train_valid[tr_idxs]\n",
        "    y_train=y_train_valid[tr_idxs]\n",
        "    X_valid=X_train_valid[val_idxs]\n",
        "    y_valid=y_train_valid[val_idxs]\n",
        "    person_train=person_train_valid[tr_idxs]\n",
        "    person_valid=person_train_valid[val_idxs]\n",
        "    print(X_train.shape,y_train.shape,X_valid.shape,y_valid.shape,person_train.shape)\n",
        "    return X_train,X_valid,y_train,y_valid,person_train,person_valid\n",
        "\n"
      ],
      "metadata": {
        "id": "ButoJcyaTcqR"
      },
      "execution_count": null,
      "outputs": []
    },
    {
      "cell_type": "code",
      "source": [
        "# Given a train and label arrays just return train and label arrays based on the person\n",
        "# Input X,y, person_array,person\n",
        "# Output X,y corresponding to that particular person\n",
        "\n",
        "def make_subject_arr(X,y,person_array,person=0):\n",
        "    pers_idx=np.argwhere(person_array.flatten()==person)\n",
        "    X_person=X[pers_idx]\n",
        "    y_person=y[pers_idx]\n",
        "    return X_person,y_person\n",
        "\n",
        "\n",
        "# Given a train and label arrays just return train and label arrays based on the one of the 4 tasks\n",
        "# Input X,y, task [ 0-3]\n",
        "# Output X,y corresponding to that particular task\n",
        "def make_task_arr(X,y,task=0):\n",
        "    task_idx=np.argwhere(y.flatten()==task)\n",
        "    X_task=X[task_idx]\n",
        "    y_task=y[task_idx]\n",
        "    return X_task,y_task\n",
        "\n"
      ],
      "metadata": {
        "id": "8lndL76MlL4d"
      },
      "execution_count": null,
      "outputs": []
    },
    {
      "cell_type": "code",
      "source": [
        ""
      ],
      "metadata": {
        "id": "lytcoU_W3nQZ"
      },
      "execution_count": null,
      "outputs": []
    }
  ]
}